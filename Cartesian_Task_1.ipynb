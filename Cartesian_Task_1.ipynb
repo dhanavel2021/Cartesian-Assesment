{
  "nbformat": 4,
  "nbformat_minor": 0,
  "metadata": {
    "colab": {
      "name": "Cartesian Task 1.ipynb",
      "provenance": [],
      "collapsed_sections": []
    },
    "kernelspec": {
      "name": "python3",
      "display_name": "Python 3"
    },
    "language_info": {
      "name": "python"
    }
  },
  "cells": [
    {
      "cell_type": "markdown",
      "source": [
        "**The problem Statement**\n",
        "\n",
        "\n",
        "\n",
        "\n",
        "\n",
        "The program takes input a short abstract and outputs the following\n",
        "\n",
        "•\tPrints each word in reverse.  \n",
        "\n",
        "\n",
        "•\tPrints Top 2 occurring words in sorted order. The words that have occurred most of the time.\n"
      ],
      "metadata": {
        "id": "ZNHwCwWVnbbH"
      }
    },
    {
      "cell_type": "markdown",
      "source": [
        "Problem 1:\n",
        "\n",
        "\n",
        "Prints every word in reverse"
      ],
      "metadata": {
        "id": "iG2TBtpUn04B"
      }
    },
    {
      "cell_type": "markdown",
      "source": [
        "**Sample Input:**\n",
        "\n",
        "\n",
        "\"This declaration represents a political commitment among declaration partners to advance a positive vision for the Internet in this era of a united europe\"\n"
      ],
      "metadata": {
        "id": "vogf1ukknbO0"
      }
    },
    {
      "cell_type": "markdown",
      "source": [
        "**Sample Output:**\n",
        "\n",
        "\n",
        " Printing word in reverse\n",
        "“Europe of century 21st of era this in Internet the for vision positive a advance to partners declaration among commitment political a represents declaration this”\n"
      ],
      "metadata": {
        "id": "zT-f2gXknbAn"
      }
    },
    {
      "cell_type": "code",
      "execution_count": 51,
      "metadata": {
        "colab": {
          "base_uri": "https://localhost:8080/"
        },
        "id": "aIZu4WDii9WA",
        "outputId": "b3013c47-2e08-4d7c-bfd6-a8a4f9ca6025"
      },
      "outputs": [
        {
          "output_type": "stream",
          "name": "stdout",
          "text": [
            "This declaration represents a political commitment among declaration partners to advance a positive vision for the Internet in this era of a united europe\n",
            "Europe united a of era this in Internet the for vision positive a advance to partners declaration among commitment political a represents declaration this\n"
          ]
        }
      ],
      "source": [
        "s=input()\n",
        "l=s.split()\n",
        "c=l[1:len(l)-1]\n",
        "print(l[-1].capitalize(),' '.join(c[::-1]),l[0].lower())"
      ]
    },
    {
      "cell_type": "markdown",
      "source": [
        "**Problem 2:**\n",
        "\n",
        "Prints Top 2 occurring words in sorted order. The words that have occurred most of the time.\n"
      ],
      "metadata": {
        "id": "WYuLPBsloE4l"
      }
    },
    {
      "cell_type": "code",
      "source": [
        "from collections import Counter\n",
        "w=s.lower()\n",
        "q=w.split()\n",
        "Counter = Counter(q)\n",
        "words = Counter.most_common(2)\n",
        "print(*words)"
      ],
      "metadata": {
        "colab": {
          "base_uri": "https://localhost:8080/"
        },
        "id": "FM2RLRXspWwR",
        "outputId": "93916abb-2a94-464a-af09-0a6016c53f82"
      },
      "execution_count": 53,
      "outputs": [
        {
          "output_type": "stream",
          "name": "stdout",
          "text": [
            "('a', 3) ('this', 2)\n"
          ]
        }
      ]
    }
  ]
}